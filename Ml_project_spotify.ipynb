{
 "cells": [
  {
   "cell_type": "code",
   "execution_count": 146,
   "metadata": {},
   "outputs": [],
   "source": [
    "import pandas as pd\n",
    "import warnings\n",
    "warnings.filterwarnings('ignore')\n",
    "import seaborn as sns\n",
    "import matplotlib.pyplot as plt\n",
    "\n",
    "import nltk\n",
    "from nltk.tokenize import word_tokenize\n",
    "import re"
   ]
  },
  {
   "cell_type": "markdown",
   "metadata": {},
   "source": [
    "Load the dataset "
   ]
  },
  {
   "cell_type": "code",
   "execution_count": 147,
   "metadata": {},
   "outputs": [
    {
     "data": {
      "text/html": [
       "<div>\n",
       "<style scoped>\n",
       "    .dataframe tbody tr th:only-of-type {\n",
       "        vertical-align: middle;\n",
       "    }\n",
       "\n",
       "    .dataframe tbody tr th {\n",
       "        vertical-align: top;\n",
       "    }\n",
       "\n",
       "    .dataframe thead th {\n",
       "        text-align: right;\n",
       "    }\n",
       "</style>\n",
       "<table border=\"1\" class=\"dataframe\">\n",
       "  <thead>\n",
       "    <tr style=\"text-align: right;\">\n",
       "      <th></th>\n",
       "      <th>Time_submitted</th>\n",
       "      <th>Review</th>\n",
       "      <th>Rating</th>\n",
       "      <th>Total_thumbsup</th>\n",
       "      <th>Reply</th>\n",
       "    </tr>\n",
       "  </thead>\n",
       "  <tbody>\n",
       "    <tr>\n",
       "      <th>0</th>\n",
       "      <td>2022-07-09 15:00:00</td>\n",
       "      <td>Great music service, the audio is high quality...</td>\n",
       "      <td>5</td>\n",
       "      <td>2</td>\n",
       "      <td>NaN</td>\n",
       "    </tr>\n",
       "    <tr>\n",
       "      <th>1</th>\n",
       "      <td>2022-07-09 14:21:22</td>\n",
       "      <td>Please ignore previous negative rating. This a...</td>\n",
       "      <td>5</td>\n",
       "      <td>1</td>\n",
       "      <td>NaN</td>\n",
       "    </tr>\n",
       "    <tr>\n",
       "      <th>2</th>\n",
       "      <td>2022-07-09 13:27:32</td>\n",
       "      <td>This pop-up \"Get the best Spotify experience o...</td>\n",
       "      <td>4</td>\n",
       "      <td>0</td>\n",
       "      <td>NaN</td>\n",
       "    </tr>\n",
       "    <tr>\n",
       "      <th>3</th>\n",
       "      <td>2022-07-09 13:26:45</td>\n",
       "      <td>Really buggy and terrible to use as of recently</td>\n",
       "      <td>1</td>\n",
       "      <td>1</td>\n",
       "      <td>NaN</td>\n",
       "    </tr>\n",
       "    <tr>\n",
       "      <th>4</th>\n",
       "      <td>2022-07-09 13:20:49</td>\n",
       "      <td>Dear Spotify why do I get songs that I didn't ...</td>\n",
       "      <td>1</td>\n",
       "      <td>1</td>\n",
       "      <td>NaN</td>\n",
       "    </tr>\n",
       "  </tbody>\n",
       "</table>\n",
       "</div>"
      ],
      "text/plain": [
       "        Time_submitted                                             Review  \\\n",
       "0  2022-07-09 15:00:00  Great music service, the audio is high quality...   \n",
       "1  2022-07-09 14:21:22  Please ignore previous negative rating. This a...   \n",
       "2  2022-07-09 13:27:32  This pop-up \"Get the best Spotify experience o...   \n",
       "3  2022-07-09 13:26:45    Really buggy and terrible to use as of recently   \n",
       "4  2022-07-09 13:20:49  Dear Spotify why do I get songs that I didn't ...   \n",
       "\n",
       "   Rating  Total_thumbsup Reply  \n",
       "0       5               2   NaN  \n",
       "1       5               1   NaN  \n",
       "2       4               0   NaN  \n",
       "3       1               1   NaN  \n",
       "4       1               1   NaN  "
      ]
     },
     "execution_count": 147,
     "metadata": {},
     "output_type": "execute_result"
    }
   ],
   "source": [
    "df_spotify = pd.read_csv(r\"C:\\Users\\ponnu\\Downloads\\ML_project\\reviews.csv\")\n",
    "df_spotify.head()\n"
   ]
  },
  {
   "cell_type": "markdown",
   "metadata": {},
   "source": [
    "Removing the unneccessary columns"
   ]
  },
  {
   "cell_type": "code",
   "execution_count": 148,
   "metadata": {},
   "outputs": [],
   "source": [
    "\n",
    "df_spotify = df_spotify[['Review', 'Rating']].dropna()"
   ]
  },
  {
   "cell_type": "markdown",
   "metadata": {},
   "source": [
    "Check for Null Values"
   ]
  },
  {
   "cell_type": "code",
   "execution_count": 149,
   "metadata": {},
   "outputs": [
    {
     "data": {
      "text/plain": [
       "Review    0\n",
       "Rating    0\n",
       "dtype: int64"
      ]
     },
     "execution_count": 149,
     "metadata": {},
     "output_type": "execute_result"
    }
   ],
   "source": [
    "df_spotify.isnull().sum()"
   ]
  },
  {
   "cell_type": "markdown",
   "metadata": {},
   "source": [
    "Labeling rating column"
   ]
  },
  {
   "cell_type": "code",
   "execution_count": 150,
   "metadata": {},
   "outputs": [],
   "source": [
    "def label_sentiment(rating):\n",
    "    if rating >= 4:\n",
    "        return 'Positive'\n",
    "    elif rating == 3:\n",
    "        return 'Neutral'\n",
    "    else:\n",
    "        return 'Negative'\n",
    "\n",
    "df_spotify['Rating'] = df_spotify['Rating'].apply(label_sentiment)\n"
   ]
  },
  {
   "cell_type": "markdown",
   "metadata": {},
   "source": [
    "Distribution of rating"
   ]
  },
  {
   "cell_type": "code",
   "execution_count": 151,
   "metadata": {},
   "outputs": [
    {
     "data": {
      "image/png": "[encoded data removed]",
      "text/plain": [
       "<Figure size 600x400 with 1 Axes>"
      ]
     },
     "metadata": {},
     "output_type": "display_data"
    }
   ],
   "source": [
    "\n",
    "plt.figure(figsize=(6, 4))\n",
    "sns.countplot(x='Rating', data=df_spotify, order=['Positive', 'Neutral', 'Negative'], palette='Set2')\n",
    "plt.title('Distribution of Ratings')\n",
    "plt.xlabel('Ratings')\n",
    "plt.ylabel('Number of Ratings')\n",
    "plt.tight_layout()\n",
    "plt.show()\n"
   ]
  },
  {
   "cell_type": "markdown",
   "metadata": {},
   "source": [
    "Tokenization"
   ]
  },
  {
   "cell_type": "code",
   "execution_count": 152,
   "metadata": {},
   "outputs": [],
   "source": [
    "df_spotify['Review'] = [word_tokenize(review) for review in df_spotify['Review']]"
   ]
  },
  {
   "cell_type": "code",
   "execution_count": 153,
   "metadata": {},
   "outputs": [
    {
     "name": "stdout",
     "output_type": "stream",
     "text": [
      "['Great', 'music', 'service', ',', 'the', 'audio', 'is', 'high', 'quality', 'and', 'the', 'app', 'is', 'easy', 'to', 'use', '.', 'Also', 'very', 'quick', 'and', 'friendly', 'support', '.']\n"
     ]
    }
   ],
   "source": [
    "print(df_spotify['Review'].iloc[0])"
   ]
  },
  {
   "cell_type": "markdown",
   "metadata": {},
   "source": [
    "Lemmatization and lowercasing"
   ]
  },
  {
   "cell_type": "code",
   "execution_count": 154,
   "metadata": {},
   "outputs": [],
   "source": [
    "from nltk.stem import WordNetLemmatizer\n",
    "lemmatizer = WordNetLemmatizer()\n",
    "df_spotify['Review'] = [\n",
    "    [lemmatizer.lemmatize(word.lower()) for word in review] for review in df_spotify['Review']\n",
    "]"
   ]
  },
  {
   "cell_type": "markdown",
   "metadata": {},
   "source": [
    "Stopwords removal"
   ]
  },
  {
   "cell_type": "code",
   "execution_count": 155,
   "metadata": {},
   "outputs": [],
   "source": [
    "from nltk.corpus import stopwords\n",
    "stop_words = set(stopwords.words('english'))\n",
    "df_spotify['Review'] = [\n",
    "    [word for word in review if word not in stop_words] for review in df_spotify['Review']\n",
    "]\n"
   ]
  },
  {
   "cell_type": "markdown",
   "metadata": {},
   "source": [
    "Hnadling hashtags"
   ]
  },
  {
   "cell_type": "code",
   "execution_count": 156,
   "metadata": {},
   "outputs": [],
   "source": [
    "def remove_hashtags(tokens):\n",
    "    return [word[1:] if word.startswith('#') else word for word in tokens]\n",
    "df_spotify['Review'] = [\n",
    "    remove_hashtags(review) for review in df_spotify['Review']\n",
    "]\n"
   ]
  },
  {
   "cell_type": "markdown",
   "metadata": {},
   "source": [
    "Handling emojis"
   ]
  },
  {
   "cell_type": "code",
   "execution_count": 157,
   "metadata": {},
   "outputs": [
    {
     "name": "stdout",
     "output_type": "stream",
     "text": [
      "                                                  Review    Rating\n",
      "0      [great, music, service, audio, high, quality, ...  Positive\n",
      "1      [please, ignore, previous, negative, rating, a...  Positive\n",
      "2      [get, best, spotify, experience, android, 12, ...  Positive\n",
      "3               [really, buggy, terrible, use, recently]  Negative\n",
      "4      [dear, spotify, get, song, put, playlist, shuf...  Negative\n",
      "...                                                  ...       ...\n",
      "61589  [even, though, wa, communicated, lyric, featur...  Negative\n",
      "61590  [use, sooo, good, back, downloaded, free, vers...  Negative\n",
      "61591  [app, would, good, taking, device, start, comp...  Negative\n",
      "61592  [app, good, hard, navigate, wo, let, play, son...  Negative\n",
      "61593  [good, sometimes, doesnt, load, music, play, l...  Positive\n",
      "\n",
      "[61594 rows x 2 columns]\n"
     ]
    }
   ],
   "source": [
    "import re\n",
    "def remove_non_alphanumeric_tokens(tokens):\n",
    "    return [token for token in tokens if token.isalnum()]\n",
    "df_spotify['Review'] = [\n",
    "    remove_non_alphanumeric_tokens(review) for review in df_spotify['Review']\n",
    "]\n",
    "print(df_spotify)\n"
   ]
  },
  {
   "cell_type": "code",
   "execution_count": 158,
   "metadata": {},
   "outputs": [],
   "source": [
    "def remove_non_ascii_tokens(tokens):\n",
    "    return [token for token in tokens if token.isascii()]\n",
    "cleaned_reviews = []\n",
    "\n",
    "for tokens in df_spotify['Review']:\n",
    "    cleaned_tokens = remove_non_ascii_tokens(tokens)\n",
    "    cleaned_reviews.append(cleaned_tokens)\n",
    "df_spotify['Review'] = cleaned_reviews\n"
   ]
  },
  {
   "cell_type": "markdown",
   "metadata": {},
   "source": [
    "Check for any emojis "
   ]
  },
  {
   "cell_type": "code",
   "execution_count": 159,
   "metadata": {},
   "outputs": [
    {
     "name": "stdout",
     "output_type": "stream",
     "text": [
      "Total non-ASCII tokens: 0\n",
      "Unique non-ASCII tokens: 0\n",
      "Some examples: []\n"
     ]
    }
   ],
   "source": [
    "non_ascii_tokens = []\n",
    "for tokens in df_spotify['Review']:\n",
    "    for token in tokens:\n",
    "        if not token.isascii():  # Check if token is non-ASCII\n",
    "            non_ascii_tokens.append(token)\n",
    "\n",
    "# Show total and unique tokens\n",
    "print(f\"Total non-ASCII tokens: {len(non_ascii_tokens)}\")\n",
    "print(f\"Unique non-ASCII tokens: {len(set(non_ascii_tokens))}\")\n",
    "print(\"Some examples:\", list(set(non_ascii_tokens))[:20])\n"
   ]
  },
  {
   "cell_type": "markdown",
   "metadata": {},
   "source": [
    "Slang handling"
   ]
  },
  {
   "cell_type": "code",
   "execution_count": 160,
   "metadata": {},
   "outputs": [
    {
     "name": "stdout",
     "output_type": "stream",
     "text": [
      "Total slang tokens found: 3358\n",
      "Unique slang tokens: {'ur', 'idk', 'btw', 'omg', 'u', 'lol', 'tho'}\n"
     ]
    }
   ],
   "source": [
    "# Basic slang dictionary\n",
    "slang_dict = {\n",
    "    \"u\": \"you\",\n",
    "    \"ur\": \"your\",\n",
    "    \"lol\": \"laugh out loud\",\n",
    "    \"brb\": \"be right back\",\n",
    "    \"btw\": \"by the way\",\n",
    "    \"idk\": \"I don't know\",\n",
    "    \"omg\": \"oh my god\",\n",
    "    \"tho\": \"though\",\n",
    "    \"gonna\": \"going to\",\n",
    "    \"wanna\": \"want to\",\n",
    "}\n",
    "slang_tokens = []\n",
    "\n",
    "for tokens in df_spotify['Review']:\n",
    "    for token in tokens:\n",
    "        if token.lower() in slang_dict:\n",
    "            slang_tokens.append(token.lower())\n",
    "\n",
    "# Show results\n",
    "print(f\"Total slang tokens found: {len(slang_tokens)}\")\n",
    "print(f\"Unique slang tokens: {set(slang_tokens)}\")\n"
   ]
  },
  {
   "cell_type": "code",
   "execution_count": 161,
   "metadata": {},
   "outputs": [
    {
     "data": {
      "text/html": [
       "<div>\n",
       "<style scoped>\n",
       "    .dataframe tbody tr th:only-of-type {\n",
       "        vertical-align: middle;\n",
       "    }\n",
       "\n",
       "    .dataframe tbody tr th {\n",
       "        vertical-align: top;\n",
       "    }\n",
       "\n",
       "    .dataframe thead th {\n",
       "        text-align: right;\n",
       "    }\n",
       "</style>\n",
       "<table border=\"1\" class=\"dataframe\">\n",
       "  <thead>\n",
       "    <tr style=\"text-align: right;\">\n",
       "      <th></th>\n",
       "      <th>Review</th>\n",
       "      <th>Rating</th>\n",
       "    </tr>\n",
       "  </thead>\n",
       "  <tbody>\n",
       "    <tr>\n",
       "      <th>0</th>\n",
       "      <td>[great, music, service, audio, high, quality, ...</td>\n",
       "      <td>Positive</td>\n",
       "    </tr>\n",
       "    <tr>\n",
       "      <th>1</th>\n",
       "      <td>[please, ignore, previous, negative, rating, a...</td>\n",
       "      <td>Positive</td>\n",
       "    </tr>\n",
       "    <tr>\n",
       "      <th>2</th>\n",
       "      <td>[get, best, spotify, experience, android, 12, ...</td>\n",
       "      <td>Positive</td>\n",
       "    </tr>\n",
       "    <tr>\n",
       "      <th>3</th>\n",
       "      <td>[really, buggy, terrible, use, recently]</td>\n",
       "      <td>Negative</td>\n",
       "    </tr>\n",
       "    <tr>\n",
       "      <th>4</th>\n",
       "      <td>[dear, spotify, get, song, put, playlist, shuf...</td>\n",
       "      <td>Negative</td>\n",
       "    </tr>\n",
       "    <tr>\n",
       "      <th>5</th>\n",
       "      <td>[player, control, sometimes, disappear, reason...</td>\n",
       "      <td>Neutral</td>\n",
       "    </tr>\n",
       "    <tr>\n",
       "      <th>6</th>\n",
       "      <td>[love, selection, lyric, provided, song, liste...</td>\n",
       "      <td>Positive</td>\n",
       "    </tr>\n",
       "    <tr>\n",
       "      <th>7</th>\n",
       "      <td>[still, extremely, slow, changing, storage, ex...</td>\n",
       "      <td>Neutral</td>\n",
       "    </tr>\n",
       "    <tr>\n",
       "      <th>8</th>\n",
       "      <td>[great, app, best, mp3, music, app, ever, used...</td>\n",
       "      <td>Positive</td>\n",
       "    </tr>\n",
       "    <tr>\n",
       "      <th>9</th>\n",
       "      <td>[deleting, app, following, reason, app, ha, fa...</td>\n",
       "      <td>Negative</td>\n",
       "    </tr>\n",
       "  </tbody>\n",
       "</table>\n",
       "</div>"
      ],
      "text/plain": [
       "                                              Review    Rating\n",
       "0  [great, music, service, audio, high, quality, ...  Positive\n",
       "1  [please, ignore, previous, negative, rating, a...  Positive\n",
       "2  [get, best, spotify, experience, android, 12, ...  Positive\n",
       "3           [really, buggy, terrible, use, recently]  Negative\n",
       "4  [dear, spotify, get, song, put, playlist, shuf...  Negative\n",
       "5  [player, control, sometimes, disappear, reason...   Neutral\n",
       "6  [love, selection, lyric, provided, song, liste...  Positive\n",
       "7  [still, extremely, slow, changing, storage, ex...   Neutral\n",
       "8  [great, app, best, mp3, music, app, ever, used...  Positive\n",
       "9  [deleting, app, following, reason, app, ha, fa...  Negative"
      ]
     },
     "execution_count": 161,
     "metadata": {},
     "output_type": "execute_result"
    }
   ],
   "source": [
    "slang_words = {'ur', 'idk', 'btw', 'omg', 'u', 'lol', 'tho'}            # List of slang words\n",
    "\n",
    "def remove_slang(tokens):                                               # Function to remove slang tokens\n",
    "    return [token for token in tokens if token not in slang_words]\n",
    "df_spotify['Review'] = [\n",
    "    remove_slang(review) for review in df_spotify['Review']             # Remove slang words from the 'Review' column without using apply\n",
    "]\n",
    "df_spotify.head(10)\n"
   ]
  },
  {
   "cell_type": "markdown",
   "metadata": {},
   "source": [
    "Handilng Numbers"
   ]
  },
  {
   "cell_type": "code",
   "execution_count": 172,
   "metadata": {},
   "outputs": [
    {
     "name": "stdout",
     "output_type": "stream",
     "text": [
      "0    [great, music, service, audio, high, quality, ...\n",
      "1    [please, ignore, previous, negative, rating, a...\n",
      "2    [get, best, spotify, experience, android, anno...\n",
      "3             [really, buggy, terrible, use, recently]\n",
      "4    [dear, spotify, get, song, put, playlist, shuf...\n",
      "5    [player, control, sometimes, disappear, reason...\n",
      "6    [love, selection, lyric, provided, song, liste...\n",
      "7    [still, extremely, slow, changing, storage, ex...\n",
      "8    [great, app, best, music, app, ever, used, one...\n",
      "9    [deleting, app, following, reason, app, ha, fa...\n",
      "Name: Review, dtype: object\n"
     ]
    }
   ],
   "source": [
    "# Function to remove tokens that contain both numbers\n",
    "def remove_unwanted_tokens(tokens):\n",
    "    clean_tokens = []\n",
    "    for token in tokens:\n",
    "        if any(char.isdigit() for char in token) and any(char.isalpha() for char in token):\n",
    "            continue \n",
    "        clean_tokens.append(token)\n",
    "    return clean_tokens\n",
    "df_spotify['Review'] = [\n",
    "    remove_unwanted_tokens(review) for review in df_spotify['Review']\n",
    "]\n",
    "\n",
    "# Show the cleaned reviews\n",
    "print(df_spotify['Review'].head(10))\n"
   ]
  },
  {
   "cell_type": "code",
   "execution_count": null,
   "metadata": {},
   "outputs": [],
   "source": []
  }
 ],
 "metadata": {
  "kernelspec": {
   "display_name": "CSCN8010_classic_ml",
   "language": "python",
   "name": "python3"
  },
  "language_info": {
   "codemirror_mode": {
    "name": "ipython",
    "version": 3
   },
   "file_extension": ".py",
   "mimetype": "text/x-python",
   "name": "python",
   "nbconvert_exporter": "python",
   "pygments_lexer": "ipython3",
   "version": "3.12.7"
  }
 },
 "nbformat": 4,
 "nbformat_minor": 2
}
